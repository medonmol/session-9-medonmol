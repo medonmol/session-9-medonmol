{
 "cells": [
  {
   "cell_type": "code",
   "execution_count": 140,
   "metadata": {},
   "outputs": [
    {
     "data": {
      "text/plain": [
       "<module 'session_9' from 'e:\\\\TSAI\\\\EPAi_3\\\\session-9-medonmol\\\\session_9.py'>"
      ]
     },
     "execution_count": 140,
     "metadata": {},
     "output_type": "execute_result"
    }
   ],
   "source": [
    "import session_9\r\n",
    "import importlib\r\n",
    "importlib.reload(session_9)\r\n"
   ]
  },
  {
   "cell_type": "markdown",
   "metadata": {},
   "source": [
    "# Problem 1 and 2 :- \r\n",
    "\r\n",
    "- Use the Faker (Links to an external site.)library to get 10000 random profiles. Using namedtuple, calculate the largest blood type, mean-current_location, oldest_person_age, and average age (add proper doc-strings). - 250 (including 5 test cases)\r\n",
    "- Do the same thing above using a dictionary. Prove that namedtuple is faster. - 250 (including 5 test cases)"
   ]
  },
  {
   "cell_type": "markdown",
   "metadata": {},
   "source": [
    "Get 10,000 fake profiles using faker, as a list of namedtuple and dictionary. Assert that the both `profiles_nt` and `profiles_dict` contain the same profiles."
   ]
  },
  {
   "cell_type": "code",
   "execution_count": 108,
   "metadata": {},
   "outputs": [],
   "source": [
    "profiles = session_9.GenerateProfiles(10000)\r\n",
    "profiles_nt = profiles.get_profiles_tup()\r\n",
    "profiles_dict = profiles.get_profiles_dict()\r\n",
    "assert profiles_nt[0]._asdict() == profiles_dict[0]"
   ]
  },
  {
   "cell_type": "code",
   "execution_count": 56,
   "metadata": {},
   "outputs": [
    {
     "data": {
      "text/plain": [
       "Profile(job='Transport planner', company='Le-Lane', ssn='196-09-9178', residence='520 Castillo Tunnel\\nEast Kimberly, AZ 43229', current_location=(Decimal('36.798153'), Decimal('16.099922')), blood_group='O-', website=['https://hansen.com/', 'https://foster.com/', 'https://www.thompson.net/', 'http://www.vega.com/'], username='robertsalexandra', name='Todd Poole', sex='M', address='1168 Cynthia Bridge\\nNorth Richardmouth, MO 70767', mail='harrisphillip@yahoo.com', birthdate=datetime.date(1975, 3, 17))"
      ]
     },
     "execution_count": 56,
     "metadata": {},
     "output_type": "execute_result"
    }
   ],
   "source": [
    "profiles_nt[0]"
   ]
  },
  {
   "cell_type": "code",
   "execution_count": 57,
   "metadata": {},
   "outputs": [
    {
     "data": {
      "text/plain": [
       "{'job': 'Transport planner',\n",
       " 'company': 'Le-Lane',\n",
       " 'ssn': '196-09-9178',\n",
       " 'residence': '520 Castillo Tunnel\\nEast Kimberly, AZ 43229',\n",
       " 'current_location': (Decimal('36.798153'), Decimal('16.099922')),\n",
       " 'blood_group': 'O-',\n",
       " 'website': ['https://hansen.com/',\n",
       "  'https://foster.com/',\n",
       "  'https://www.thompson.net/',\n",
       "  'http://www.vega.com/'],\n",
       " 'username': 'robertsalexandra',\n",
       " 'name': 'Todd Poole',\n",
       " 'sex': 'M',\n",
       " 'address': '1168 Cynthia Bridge\\nNorth Richardmouth, MO 70767',\n",
       " 'mail': 'harrisphillip@yahoo.com',\n",
       " 'birthdate': datetime.date(1975, 3, 17)}"
      ]
     },
     "execution_count": 57,
     "metadata": {},
     "output_type": "execute_result"
    }
   ],
   "source": [
    "profiles_dict[0]"
   ]
  },
  {
   "cell_type": "markdown",
   "metadata": {},
   "source": [
    "Calculate the aggregated stats from `profiles_nt` and `profiles_dict`, and check if the results are the same."
   ]
  },
  {
   "cell_type": "code",
   "execution_count": 113,
   "metadata": {},
   "outputs": [
    {
     "data": {
      "text/html": [
       "<pre style=\"white-space:pre;overflow-x:auto;line-height:normal;font-family:Menlo,'DejaVu Sans Mono',consolas,'Courier New',monospace\">calculate_stats_namedtuple_timed runtime averaged over <span style=\"color: #008080; text-decoration-color: #008080; font-weight: bold\">10</span> iterations : <span style=\"color: #008080; text-decoration-color: #008080; font-weight: bold\">0.18009334999987914</span> \n",
       "seconds\n",
       "</pre>\n"
      ],
      "text/plain": [
       "calculate_stats_namedtuple_timed runtime averaged over \u001b[1;36m10\u001b[0m iterations : \u001b[1;36m0.18009334999987914\u001b[0m \n",
       "seconds\n"
      ]
     },
     "metadata": {},
     "output_type": "display_data"
    },
    {
     "data": {
      "text/html": [
       "<pre style=\"white-space:pre;overflow-x:auto;line-height:normal;font-family:Menlo,'DejaVu Sans Mono',consolas,'Courier New',monospace\">calculate_stats_dict_timed runtime averaged over <span style=\"color: #008080; text-decoration-color: #008080; font-weight: bold\">10</span> iterations : <span style=\"color: #008080; text-decoration-color: #008080; font-weight: bold\">0.18413966999978584</span> seconds\n",
       "</pre>\n"
      ],
      "text/plain": [
       "calculate_stats_dict_timed runtime averaged over \u001b[1;36m10\u001b[0m iterations : \u001b[1;36m0.18413966999978584\u001b[0m seconds\n"
      ]
     },
     "metadata": {},
     "output_type": "display_data"
    }
   ],
   "source": [
    "aggregated_stats_nt = session_9.calculate_stats_namedtuple_timed(profiles_nt)\r\n",
    "aggregated_stats_dict = session_9.calculate_stats_dict_timed(profiles_dict)\r\n",
    "\r\n",
    "assert aggregated_stats_nt._asdict() == aggregated_stats_dict"
   ]
  },
  {
   "cell_type": "code",
   "execution_count": 59,
   "metadata": {},
   "outputs": [
    {
     "data": {
      "text/plain": [
       "{'largest_blood_type': 'A-',\n",
       " 'oldest_age': 115.08,\n",
       " 'average_age': 57.07,\n",
       " 'mean_current_location_x': 0.36,\n",
       " 'mean_current_location_y': -1.13}"
      ]
     },
     "execution_count": 59,
     "metadata": {},
     "output_type": "execute_result"
    }
   ],
   "source": [
    "aggregated_stats_nt._asdict()"
   ]
  },
  {
   "cell_type": "code",
   "execution_count": 60,
   "metadata": {},
   "outputs": [
    {
     "data": {
      "text/plain": [
       "{'largest_blood_type': 'A-',\n",
       " 'oldest_age': 115.08,\n",
       " 'average_age': 57.07,\n",
       " 'mean_current_location_x': 0.36,\n",
       " 'mean_current_location_y': -1.13}"
      ]
     },
     "execution_count": 60,
     "metadata": {},
     "output_type": "execute_result"
    }
   ],
   "source": [
    "aggregated_stats_dict"
   ]
  },
  {
   "cell_type": "markdown",
   "metadata": {},
   "source": [
    "Create fake data (you can use Faker for company names) for imaginary stock exchange for top 100 companies (name, symbol, open, high, close). Assign a random weight to all the companies. Calculate and show what value the stock market started at, what was the highest value during the day, and where did it end. Make sure your open, high, close are not totally random. You can only use namedtuple"
   ]
  },
  {
   "cell_type": "code",
   "execution_count": 141,
   "metadata": {},
   "outputs": [],
   "source": [
    "companies_data = session_9.generate_fake_data_stock_market()"
   ]
  },
  {
   "cell_type": "code",
   "execution_count": 64,
   "metadata": {},
   "outputs": [
    {
     "name": "stdout",
     "output_type": "stream",
     "text": [
      "('name', 'symbol', 'price', 'open', 'high', 'close', 'weight')\n"
     ]
    },
    {
     "data": {
      "text/plain": [
       "Stocks(name='Davidson Inc', symbol='DI', price=[1588.84, 1598.37304, 1627.14375472, 1620.63517970112, 1636.8415314981312, 1656.4836298761088, 1625.0104409084627, 1600.6352842948356, 1576.625755030413, 1584.508883805565, 1563.9102683160925, 1568.6019991210405, 1598.40543710434, 1593.610220793027, 1592.0166105722342, 1584.056527519373, 1588.808697101931, 1572.9206101309119, 1577.6393719613045, 1549.241863266001, 1527.552477180277, 1527.552477180277, 1498.5289801138517, 1509.0186829746485, 1509.0186829746485, 1509.0186829746485, 1493.928496144902, 1474.5074256950184, 1456.8133365866781, 1437.8747632110512, 1456.5671351327946, 1437.6317623760683, 1429.005971801812, 1441.867025548028, 1438.983291496932, 1456.251090994895, 1441.6885800849461, 1414.296497063332, 1405.810718080952, 1422.6804466979236, 1409.8763226776423, 1391.547930482833, 1365.1085198036592, 1356.9178686848372, 1367.7732116343159, 1370.5087580575846, 1389.6958806703908, 1392.4752724317316, 1403.6150746111855, 1427.4765308795754], open=1588.84, high=1656.4836298761088, close=1427.4765308795754, weight=0.0023295760384951392)"
      ]
     },
     "execution_count": 64,
     "metadata": {},
     "output_type": "execute_result"
    }
   ],
   "source": [
    "# inspect the first Stock tuple\r\n",
    "print(companies_data[0]._fields)\r\n",
    "companies_data[0]"
   ]
  },
  {
   "cell_type": "markdown",
   "metadata": {},
   "source": [
    "Calculating the Opening/Highest/Closing value of the stock market"
   ]
  },
  {
   "cell_type": "code",
   "execution_count": 63,
   "metadata": {},
   "outputs": [
    {
     "data": {
      "text/plain": [
       "StockMarketValue(OpeningValue=2115.6880266274316, HighestValue=2131.247900307657, ClosingValue=2099.6107101955504)"
      ]
     },
     "execution_count": 63,
     "metadata": {},
     "output_type": "execute_result"
    }
   ],
   "source": [
    "session_9.calculate_stock_market_value(companies_data)"
   ]
  },
  {
   "cell_type": "code",
   "execution_count": null,
   "metadata": {},
   "outputs": [],
   "source": []
  }
 ],
 "metadata": {
  "interpreter": {
   "hash": "9131c53ea609b1c83a4930f9ef9b895156b0f40bc80fb8f9ee0bf5a21c6927cd"
  },
  "kernelspec": {
   "display_name": "Python 3.9.1 64-bit ('base': conda)",
   "name": "python3"
  },
  "language_info": {
   "codemirror_mode": {
    "name": "ipython",
    "version": 3
   },
   "file_extension": ".py",
   "mimetype": "text/x-python",
   "name": "python",
   "nbconvert_exporter": "python",
   "pygments_lexer": "ipython3",
   "version": "3.9.1"
  },
  "orig_nbformat": 4
 },
 "nbformat": 4,
 "nbformat_minor": 2
}